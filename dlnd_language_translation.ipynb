{
 "cells": [
  {
   "cell_type": "markdown",
   "metadata": {
    "collapsed": true,
    "deletable": true,
    "editable": true
   },
   "source": [
    "# Language Translation\n",
    "In this project, you’re going to take a peek into the realm of neural network machine translation.  You’ll be training a sequence to sequence model on a dataset of English and French sentences that can translate new sentences from English to French.\n",
    "## Get the Data\n",
    "Since translating the whole language of English to French will take lots of time to train, we have provided you with a small portion of the English corpus."
   ]
  },
  {
   "cell_type": "code",
   "execution_count": 1,
   "metadata": {
    "collapsed": true,
    "deletable": true,
    "editable": true
   },
   "outputs": [],
   "source": [
    "\"\"\"\n",
    "DON'T MODIFY ANYTHING IN THIS CELL\n",
    "\"\"\"\n",
    "import helper\n",
    "import problem_unittests as tests\n",
    "\n",
    "source_path = 'data/small_vocab_en'\n",
    "target_path = 'data/small_vocab_fr'\n",
    "source_text = helper.load_data(source_path)\n",
    "target_text = helper.load_data(target_path)"
   ]
  },
  {
   "cell_type": "markdown",
   "metadata": {
    "deletable": true,
    "editable": true
   },
   "source": [
    "## Explore the Data\n",
    "Play around with view_sentence_range to view different parts of the data."
   ]
  },
  {
   "cell_type": "code",
   "execution_count": 2,
   "metadata": {
    "collapsed": false,
    "deletable": true,
    "editable": true
   },
   "outputs": [
    {
     "name": "stdout",
     "output_type": "stream",
     "text": [
      "Dataset Stats\n",
      "Roughly the number of unique words: 227\n",
      "Number of sentences: 137861\n",
      "Average number of words in a sentence: 13.225277634719028\n",
      "\n",
      "English sentences 0 to 10:\n",
      "new jersey is sometimes quiet during autumn , and it is snowy in april .\n",
      "the united states is usually chilly during july , and it is usually freezing in november .\n",
      "california is usually quiet during march , and it is usually hot in june .\n",
      "the united states is sometimes mild during june , and it is cold in september .\n",
      "your least liked fruit is the grape , but my least liked is the apple .\n",
      "his favorite fruit is the orange , but my favorite is the grape .\n",
      "paris is relaxing during december , but it is usually chilly in july .\n",
      "new jersey is busy during spring , and it is never hot in march .\n",
      "our least liked fruit is the lemon , but my least liked is the grape .\n",
      "the united states is sometimes busy during january , and it is sometimes warm in november .\n",
      "\n",
      "French sentences 0 to 10:\n",
      "new jersey est parfois calme pendant l' automne , et il est neigeux en avril .\n",
      "les états-unis est généralement froid en juillet , et il gèle habituellement en novembre .\n",
      "california est généralement calme en mars , et il est généralement chaud en juin .\n",
      "les états-unis est parfois légère en juin , et il fait froid en septembre .\n",
      "votre moins aimé fruit est le raisin , mais mon moins aimé est la pomme .\n",
      "son fruit préféré est l'orange , mais mon préféré est le raisin .\n",
      "paris est relaxant en décembre , mais il est généralement froid en juillet .\n",
      "new jersey est occupé au printemps , et il est jamais chaude en mars .\n",
      "notre fruit est moins aimé le citron , mais mon moins aimé est le raisin .\n",
      "les états-unis est parfois occupé en janvier , et il est parfois chaud en novembre .\n"
     ]
    }
   ],
   "source": [
    "view_sentence_range = (0, 10)\n",
    "\n",
    "\"\"\"\n",
    "DON'T MODIFY ANYTHING IN THIS CELL\n",
    "\"\"\"\n",
    "import numpy as np\n",
    "\n",
    "print('Dataset Stats')\n",
    "print('Roughly the number of unique words: {}'.format(len({word: None for word in source_text.split()})))\n",
    "\n",
    "sentences = source_text.split('\\n')\n",
    "word_counts = [len(sentence.split()) for sentence in sentences]\n",
    "print('Number of sentences: {}'.format(len(sentences)))\n",
    "print('Average number of words in a sentence: {}'.format(np.average(word_counts)))\n",
    "\n",
    "print()\n",
    "print('English sentences {} to {}:'.format(*view_sentence_range))\n",
    "print('\\n'.join(source_text.split('\\n')[view_sentence_range[0]:view_sentence_range[1]]))\n",
    "print()\n",
    "print('French sentences {} to {}:'.format(*view_sentence_range))\n",
    "print('\\n'.join(target_text.split('\\n')[view_sentence_range[0]:view_sentence_range[1]]))"
   ]
  },
  {
   "cell_type": "markdown",
   "metadata": {
    "deletable": true,
    "editable": true
   },
   "source": [
    "## Implement Preprocessing Function\n",
    "### Text to Word Ids\n",
    "As you did with other RNNs, you must turn the text into a number so the computer can understand it. In the function `text_to_ids()`, you'll turn `source_text` and `target_text` from words to ids.  However, you need to add the `<EOS>` word id at the end of each sentence from `target_text`.  This will help the neural network predict when the sentence should end.\n",
    "\n",
    "You can get the `<EOS>` word id by doing:\n",
    "```python\n",
    "target_vocab_to_int['<EOS>']\n",
    "```\n"
   ]
  },
  {
   "cell_type": "code",
   "execution_count": 3,
   "metadata": {
    "collapsed": false,
    "deletable": true,
    "editable": true
   },
   "outputs": [
    {
     "name": "stdout",
     "output_type": "stream",
     "text": [
      "Tests Passed\n"
     ]
    }
   ],
   "source": [
    "def text_to_ids(source_text, target_text, source_vocab_to_int, target_vocab_to_int):\n",
    "    \"\"\"\n",
    "    Convert source and target text to proper word ids\n",
    "    :param source_text: String that contains all the source text.\n",
    "    :param target_text: String that contains all the target text.\n",
    "    :param source_vocab_to_int: Dictionary to go from the source words to an id\n",
    "    :param target_vocab_to_int: Dictionary to go from the target words to an id\n",
    "    :return: A tuple of lists (source_id_text, target_id_text)\n",
    "    \"\"\"\n",
    "    # TODO: Implement Function\n",
    "    source_id_text = []\n",
    "    for sentence in source_text.split('\\n'):\n",
    "        ids = []\n",
    "        for word in sentence.split():\n",
    "            ids.append(source_vocab_to_int[word])\n",
    "            \n",
    "        source_id_text.append(ids)\n",
    "        \n",
    "\n",
    "    target_id_text = []\n",
    "    for sentence in target_text.split('\\n'):\n",
    "        ids = []\n",
    "        for word in sentence.split():\n",
    "            ids.append( target_vocab_to_int[word] )\n",
    "       \n",
    "        ids.append(target_vocab_to_int['<EOS>'])\n",
    "        target_id_text.append(ids)\n",
    "    \n",
    "    return (source_id_text, target_id_text)\n",
    "\n",
    "\"\"\"\n",
    "DON'T MODIFY ANYTHING IN THIS CELL THAT IS BELOW THIS LINE\n",
    "\"\"\"\n",
    "tests.test_text_to_ids(text_to_ids)"
   ]
  },
  {
   "cell_type": "markdown",
   "metadata": {
    "deletable": true,
    "editable": true
   },
   "source": [
    "### Preprocess all the data and save it\n",
    "Running the code cell below will preprocess all the data and save it to file."
   ]
  },
  {
   "cell_type": "code",
   "execution_count": 4,
   "metadata": {
    "collapsed": true,
    "deletable": true,
    "editable": true
   },
   "outputs": [],
   "source": [
    "\"\"\"\n",
    "DON'T MODIFY ANYTHING IN THIS CELL\n",
    "\"\"\"\n",
    "helper.preprocess_and_save_data(source_path, target_path, text_to_ids)"
   ]
  },
  {
   "cell_type": "markdown",
   "metadata": {
    "deletable": true,
    "editable": true
   },
   "source": [
    "# Check Point\n",
    "This is your first checkpoint. If you ever decide to come back to this notebook or have to restart the notebook, you can start from here. The preprocessed data has been saved to disk."
   ]
  },
  {
   "cell_type": "code",
   "execution_count": 5,
   "metadata": {
    "collapsed": true,
    "deletable": true,
    "editable": true
   },
   "outputs": [],
   "source": [
    "\"\"\"\n",
    "DON'T MODIFY ANYTHING IN THIS CELL\n",
    "\"\"\"\n",
    "import numpy as np\n",
    "import helper\n",
    "\n",
    "(source_int_text, target_int_text), (source_vocab_to_int, target_vocab_to_int), _ = helper.load_preprocess()"
   ]
  },
  {
   "cell_type": "markdown",
   "metadata": {
    "deletable": true,
    "editable": true
   },
   "source": [
    "### Check the Version of TensorFlow and Access to GPU\n",
    "This will check to make sure you have the correct version of TensorFlow and access to a GPU"
   ]
  },
  {
   "cell_type": "code",
   "execution_count": 6,
   "metadata": {
    "collapsed": false,
    "deletable": true,
    "editable": true
   },
   "outputs": [
    {
     "name": "stdout",
     "output_type": "stream",
     "text": [
      "TensorFlow Version: 1.0.0\n",
      "Default GPU Device: /gpu:0\n"
     ]
    }
   ],
   "source": [
    "\"\"\"\n",
    "DON'T MODIFY ANYTHING IN THIS CELL\n",
    "\"\"\"\n",
    "from distutils.version import LooseVersion\n",
    "import warnings\n",
    "import tensorflow as tf\n",
    "\n",
    "# Check TensorFlow Version\n",
    "assert LooseVersion(tf.__version__) in [LooseVersion('1.0.0'), LooseVersion('1.0.1')], 'This project requires TensorFlow version 1.0  You are using {}'.format(tf.__version__)\n",
    "print('TensorFlow Version: {}'.format(tf.__version__))\n",
    "\n",
    "# Check for a GPU\n",
    "if not tf.test.gpu_device_name():\n",
    "    warnings.warn('No GPU found. Please use a GPU to train your neural network.')\n",
    "else:\n",
    "    print('Default GPU Device: {}'.format(tf.test.gpu_device_name()))"
   ]
  },
  {
   "cell_type": "markdown",
   "metadata": {
    "deletable": true,
    "editable": true
   },
   "source": [
    "## Build the Neural Network\n",
    "You'll build the components necessary to build a Sequence-to-Sequence model by implementing the following functions below:\n",
    "- `model_inputs`\n",
    "- `process_decoding_input`\n",
    "- `encoding_layer`\n",
    "- `decoding_layer_train`\n",
    "- `decoding_layer_infer`\n",
    "- `decoding_layer`\n",
    "- `seq2seq_model`\n",
    "\n",
    "### Input\n",
    "Implement the `model_inputs()` function to create TF Placeholders for the Neural Network. It should create the following placeholders:\n",
    "\n",
    "- Input text placeholder named \"input\" using the TF Placeholder name parameter with rank 2.\n",
    "- Targets placeholder with rank 2.\n",
    "- Learning rate placeholder with rank 0.\n",
    "- Keep probability placeholder named \"keep_prob\" using the TF Placeholder name parameter with rank 0.\n",
    "\n",
    "Return the placeholders in the following the tuple (Input, Targets, Learing Rate, Keep Probability)"
   ]
  },
  {
   "cell_type": "code",
   "execution_count": 7,
   "metadata": {
    "collapsed": false,
    "deletable": true,
    "editable": true
   },
   "outputs": [
    {
     "name": "stdout",
     "output_type": "stream",
     "text": [
      "Tests Passed\n"
     ]
    }
   ],
   "source": [
    "def model_inputs():\n",
    "    \"\"\"\n",
    "    Create TF Placeholders for input, targets, and learning rate.\n",
    "    :return: Tuple (input, targets, learning rate, keep probability)\n",
    "    \"\"\"\n",
    "    # TODO: Implement Function\n",
    "    input = tf.placeholder(tf.int32, [None, None], name='input')\n",
    "    targets = tf.placeholder(tf.int32, [None, None])\n",
    "    learning_rate = tf.placeholder(tf.float32)\n",
    "    keep_prob = tf.placeholder(tf.float32, name='keep_prob')\n",
    "    return (input, targets, learning_rate, keep_prob)\n",
    "\n",
    "\"\"\"\n",
    "DON'T MODIFY ANYTHING IN THIS CELL THAT IS BELOW THIS LINE\n",
    "\"\"\"\n",
    "tests.test_model_inputs(model_inputs)"
   ]
  },
  {
   "cell_type": "markdown",
   "metadata": {
    "deletable": true,
    "editable": true
   },
   "source": [
    "### Process Decoding Input\n",
    "Implement `process_decoding_input` using TensorFlow to remove the last word id from each batch in `target_data` and concat the GO ID to the beginning of each batch."
   ]
  },
  {
   "cell_type": "code",
   "execution_count": 8,
   "metadata": {
    "collapsed": false,
    "deletable": true,
    "editable": true
   },
   "outputs": [
    {
     "name": "stdout",
     "output_type": "stream",
     "text": [
      "Tests Passed\n"
     ]
    }
   ],
   "source": [
    "def process_decoding_input(target_data, target_vocab_to_int, batch_size):\n",
    "    \"\"\"\n",
    "    Preprocess target data for dencoding\n",
    "    :param target_data: Target Placehoder\n",
    "    :param target_vocab_to_int: Dictionary to go from the target words to an id\n",
    "    :param batch_size: Batch Size\n",
    "    :return: Preprocessed target data\n",
    "    \"\"\"\n",
    "    # TODO: Implement Function\n",
    "    target_data_last_word_removed = target_data[:,:-1]\n",
    "    row_go_for_each_batch = tf.ones(shape=(batch_size,1), dtype=tf.int32)*target_vocab_to_int['<GO>'] # make row of GO Ids\n",
    "    # append/concat the go id to the beginning of each batch\n",
    "    processed_target = tf.concat([row_go_for_each_batch, target_data_last_word_removed] , 1)\n",
    "    \n",
    "    return processed_target\n",
    "\n",
    "\"\"\"\n",
    "DON'T MODIFY ANYTHING IN THIS CELL THAT IS BELOW THIS LINE\n",
    "\"\"\"\n",
    "tests.test_process_decoding_input(process_decoding_input)"
   ]
  },
  {
   "cell_type": "markdown",
   "metadata": {
    "deletable": true,
    "editable": true
   },
   "source": [
    "### Encoding\n",
    "Implement `encoding_layer()` to create a Encoder RNN layer using [`tf.nn.dynamic_rnn()`](https://www.tensorflow.org/api_docs/python/tf/nn/dynamic_rnn)."
   ]
  },
  {
   "cell_type": "code",
   "execution_count": 9,
   "metadata": {
    "collapsed": false,
    "deletable": true,
    "editable": true
   },
   "outputs": [
    {
     "name": "stdout",
     "output_type": "stream",
     "text": [
      "Tests Passed\n"
     ]
    }
   ],
   "source": [
    "def encoding_layer(rnn_inputs, rnn_size, num_layers, keep_prob):\n",
    "    \"\"\"\n",
    "    Create encoding layer\n",
    "    :param rnn_inputs: Inputs for the RNN\n",
    "    :param rnn_size: RNN Size\n",
    "    :param num_layers: Number of layers\n",
    "    :param keep_prob: Dropout keep probability\n",
    "    :return: RNN state\n",
    "    \"\"\"\n",
    "    # TODO: Implement Function\n",
    "    #LSTM = tf.contrib.rnn.BasicLSTMCell(rnn_size)\n",
    "    #cell = tf.contrib.rnn.MultiRNNCell([LSTM]*num_layers)\n",
    "    #cell = tf.contrib.rnn.DropoutWrapper(cell, output_keep_prob=keep_prob)\n",
    "    #rnn_output, rnn_state = tf.nn.dynamic_rnn(cell, rnn_inputs, dtype=tf.float32)\n",
    "    \n",
    "    rnn_inputs = tf.nn.dropout(rnn_inputs, keep_prob)\n",
    "    cell = tf.contrib.rnn.MultiRNNCell([tf.contrib.rnn.BasicLSTMCell(rnn_size)] * num_layers)            \n",
    "    rnn_output, rnn_state = tf.nn.dynamic_rnn(cell, rnn_inputs, dtype=tf.float32)\n",
    "    return rnn_state\n",
    "\n",
    "\"\"\"\n",
    "DON'T MODIFY ANYTHING IN THIS CELL THAT IS BELOW THIS LINE\n",
    "\"\"\"\n",
    "tests.test_encoding_layer(encoding_layer)"
   ]
  },
  {
   "cell_type": "markdown",
   "metadata": {
    "deletable": true,
    "editable": true
   },
   "source": [
    "### Decoding - Training\n",
    "Create training logits using [`tf.contrib.seq2seq.simple_decoder_fn_train()`](https://www.tensorflow.org/api_docs/python/tf/contrib/seq2seq/simple_decoder_fn_train) and [`tf.contrib.seq2seq.dynamic_rnn_decoder()`](https://www.tensorflow.org/api_docs/python/tf/contrib/seq2seq/dynamic_rnn_decoder).  Apply the `output_fn` to the [`tf.contrib.seq2seq.dynamic_rnn_decoder()`](https://www.tensorflow.org/api_docs/python/tf/contrib/seq2seq/dynamic_rnn_decoder) outputs."
   ]
  },
  {
   "cell_type": "code",
   "execution_count": 10,
   "metadata": {
    "collapsed": false,
    "deletable": true,
    "editable": true
   },
   "outputs": [
    {
     "name": "stdout",
     "output_type": "stream",
     "text": [
      "Tests Passed\n"
     ]
    }
   ],
   "source": [
    "def decoding_layer_train(encoder_state, dec_cell, dec_embed_input, sequence_length, decoding_scope,\n",
    "                         output_fn, keep_prob):\n",
    "    \"\"\"\n",
    "    Create a decoding layer for training\n",
    "    :param encoder_state: Encoder State\n",
    "    :param dec_cell: Decoder RNN Cell\n",
    "    :param dec_embed_input: Decoder embedded input\n",
    "    :param sequence_length: Sequence Length\n",
    "    :param decoding_scope: TenorFlow Variable Scope for decoding\n",
    "    :param output_fn: Function to apply the output layer\n",
    "    :param keep_prob: Dropout keep probability\n",
    "    :return: Train Logits\n",
    "    \"\"\"\n",
    "    # TODO: Implement Function\n",
    "    train_decoder_fn = tf.contrib.seq2seq.simple_decoder_fn_train(encoder_state)\n",
    "    train_pred, _, _ = tf.contrib.seq2seq.dynamic_rnn_decoder(dec_cell, train_decoder_fn, dec_embed_input, sequence_length, scope=decoding_scope)    \n",
    "    train_logits =  output_fn(train_pred)\n",
    "    return train_logits\n",
    "\n",
    "\n",
    "\"\"\"\n",
    "DON'T MODIFY ANYTHING IN THIS CELL THAT IS BELOW THIS LINE\n",
    "\"\"\"\n",
    "tests.test_decoding_layer_train(decoding_layer_train)"
   ]
  },
  {
   "cell_type": "markdown",
   "metadata": {
    "deletable": true,
    "editable": true
   },
   "source": [
    "### Decoding - Inference\n",
    "Create inference logits using [`tf.contrib.seq2seq.simple_decoder_fn_inference()`](https://www.tensorflow.org/api_docs/python/tf/contrib/seq2seq/simple_decoder_fn_inference) and [`tf.contrib.seq2seq.dynamic_rnn_decoder()`](https://www.tensorflow.org/api_docs/python/tf/contrib/seq2seq/dynamic_rnn_decoder). "
   ]
  },
  {
   "cell_type": "code",
   "execution_count": 11,
   "metadata": {
    "collapsed": false,
    "deletable": true,
    "editable": true
   },
   "outputs": [
    {
     "name": "stdout",
     "output_type": "stream",
     "text": [
      "Tests Passed\n"
     ]
    }
   ],
   "source": [
    "def decoding_layer_infer(encoder_state, dec_cell, dec_embeddings, start_of_sequence_id, end_of_sequence_id,\n",
    "                         maximum_length, vocab_size, decoding_scope, output_fn, keep_prob):\n",
    "    \"\"\"\n",
    "    Create a decoding layer for inference\n",
    "    :param encoder_state: Encoder state\n",
    "    :param dec_cell: Decoder RNN Cell\n",
    "    :param dec_embeddings: Decoder embeddings\n",
    "    :param start_of_sequence_id: GO ID\n",
    "    :param end_of_sequence_id: EOS Id\n",
    "    :param maximum_length: The maximum allowed time steps to decode\n",
    "    :param vocab_size: Size of vocabulary\n",
    "    :param decoding_scope: TensorFlow Variable Scope for decoding\n",
    "    :param output_fn: Function to apply the output layer\n",
    "    :param keep_prob: Dropout keep probability\n",
    "    :return: Inference Logits\n",
    "    \"\"\"\n",
    "    # TODO: Implement Function\n",
    "    with tf.variable_scope(\"decoding\", reuse=None) as decoding_scope:\n",
    "        # Inference Decoder\n",
    "        infer_decoder_fn = tf.contrib.seq2seq.simple_decoder_fn_inference(output_fn, encoder_state, dec_embeddings, start_of_sequence_id, end_of_sequence_id, maximum_length, vocab_size, dtype=tf.int32)\n",
    "        inference_logits, _, _ = tf.contrib.seq2seq.dynamic_rnn_decoder(dec_cell, infer_decoder_fn, scope=decoding_scope)\n",
    "        inference_logits_with_dropout = tf.nn.dropout(inference_logits, keep_prob)\n",
    "    return inference_logits_with_dropout\n",
    "\n",
    "\n",
    "\"\"\"\n",
    "DON'T MODIFY ANYTHING IN THIS CELL THAT IS BELOW THIS LINE\n",
    "\"\"\"\n",
    "tests.test_decoding_layer_infer(decoding_layer_infer)"
   ]
  },
  {
   "cell_type": "markdown",
   "metadata": {
    "deletable": true,
    "editable": true
   },
   "source": [
    "### Build the Decoding Layer\n",
    "Implement `decoding_layer()` to create a Decoder RNN layer.\n",
    "\n",
    "- Create RNN cell for decoding using `rnn_size` and `num_layers`.\n",
    "- Create the output fuction using [`lambda`](https://docs.python.org/3/tutorial/controlflow.html#lambda-expressions) to transform it's input, logits, to class logits.\n",
    "- Use the your `decoding_layer_train(encoder_state, dec_cell, dec_embed_input, sequence_length, decoding_scope, output_fn, keep_prob)` function to get the training logits.\n",
    "- Use your `decoding_layer_infer(encoder_state, dec_cell, dec_embeddings, start_of_sequence_id, end_of_sequence_id, maximum_length, vocab_size, decoding_scope, output_fn, keep_prob)` function to get the inference logits.\n",
    "\n",
    "Note: You'll need to use [tf.variable_scope](https://www.tensorflow.org/api_docs/python/tf/variable_scope) to share variables between training and inference."
   ]
  },
  {
   "cell_type": "code",
   "execution_count": 12,
   "metadata": {
    "collapsed": false,
    "deletable": true,
    "editable": true
   },
   "outputs": [
    {
     "name": "stdout",
     "output_type": "stream",
     "text": [
      "Tests Passed\n"
     ]
    }
   ],
   "source": [
    "def decoding_layer(dec_embed_input, dec_embeddings, encoder_state, vocab_size, sequence_length, rnn_size,\n",
    "                   num_layers, target_vocab_to_int, keep_prob):\n",
    "    \"\"\"\n",
    "    Create decoding layer\n",
    "    :param dec_embed_input: Decoder embedded input\n",
    "    :param dec_embeddings: Decoder embeddings\n",
    "    :param encoder_state: The encoded state\n",
    "    :param vocab_size: Size of vocabulary\n",
    "    :param sequence_length: Sequence Length\n",
    "    :param rnn_size: RNN Size\n",
    "    :param num_layers: Number of layers\n",
    "    :param target_vocab_to_int: Dictionary to go from the target words to an id\n",
    "    :param keep_prob: Dropout keep probability\n",
    "    :return: Tuple of (Training Logits, Inference Logits)\n",
    "    \"\"\"\n",
    "    # TODO: Implement Function\n",
    "    start_of_sequence_id = target_vocab_to_int['<GO>']\n",
    "    end_of_sequence_id = target_vocab_to_int['<EOS>']\n",
    "\n",
    "    # RNN Cell\n",
    "    lstm = tf.contrib.rnn.BasicLSTMCell(rnn_size)\n",
    "    cell = tf.contrib.rnn.MultiRNNCell([lstm]*num_layers)\n",
    "    cell = tf.contrib.rnn.DropoutWrapper(cell, output_keep_prob=keep_prob)\n",
    "\n",
    "    \n",
    "    \n",
    "\n",
    "    # Training Logits\n",
    "    with tf.variable_scope('decoding') as decoding_scope:\n",
    "        # Output Function\n",
    "        output_fn = lambda x: tf.contrib.layers.fully_connected(x, vocab_size, None, scope=decoding_scope)\n",
    "        train_logits = decoding_layer_train(encoder_state, cell, dec_embed_input, sequence_length,decoding_scope, \n",
    "                                          output_fn, keep_prob)\n",
    "\n",
    "    # Inference Logits    \n",
    "    with tf.variable_scope('decoding', reuse=None) as decoding_scope:\n",
    "        infer_logits = decoding_layer_infer(encoder_state, cell, dec_embeddings, start_of_sequence_id,\n",
    "                                        end_of_sequence_id, sequence_length, vocab_size, decoding_scope,\n",
    "                                        output_fn, keep_prob)\n",
    "\n",
    "    return (train_logits, infer_logits)\n",
    "\n",
    "\"\"\"\n",
    "DON'T MODIFY ANYTHING IN THIS CELL THAT IS BELOW THIS LINE\n",
    "\"\"\"\n",
    "tests.test_decoding_layer(decoding_layer)"
   ]
  },
  {
   "cell_type": "markdown",
   "metadata": {
    "deletable": true,
    "editable": true
   },
   "source": [
    "### Build the Neural Network\n",
    "Apply the functions you implemented above to:\n",
    "\n",
    "- Apply embedding to the input data for the encoder.\n",
    "- Encode the input using your `encoding_layer(rnn_inputs, rnn_size, num_layers, keep_prob)`.\n",
    "- Process target data using your `process_decoding_input(target_data, target_vocab_to_int, batch_size)` function.\n",
    "- Apply embedding to the target data for the decoder.\n",
    "- Decode the encoded input using your `decoding_layer(dec_embed_input, dec_embeddings, encoder_state, vocab_size, sequence_length, rnn_size, num_layers, target_vocab_to_int, keep_prob)`."
   ]
  },
  {
   "cell_type": "code",
   "execution_count": 13,
   "metadata": {
    "collapsed": false,
    "deletable": true,
    "editable": true
   },
   "outputs": [
    {
     "name": "stdout",
     "output_type": "stream",
     "text": [
      "Tests Passed\n"
     ]
    }
   ],
   "source": [
    "def seq2seq_model(input_data, target_data, keep_prob, batch_size, sequence_length, source_vocab_size, target_vocab_size,\n",
    "                  enc_embedding_size, dec_embedding_size, rnn_size, num_layers, target_vocab_to_int):\n",
    "    \"\"\"\n",
    "    Build the Sequence-to-Sequence part of the neural network\n",
    "    :param input_data: Input placeholder\n",
    "    :param target_data: Target placeholder\n",
    "    :param keep_prob: Dropout keep probability placeholder\n",
    "    :param batch_size: Batch Size\n",
    "    :param sequence_length: Sequence Length\n",
    "    :param source_vocab_size: Source vocabulary size\n",
    "    :param target_vocab_size: Target vocabulary size\n",
    "    :param enc_embedding_size: Decoder embedding size\n",
    "    :param dec_embedding_size: Encoder embedding size\n",
    "    :param rnn_size: RNN Size\n",
    "    :param num_layers: Number of layers\n",
    "    :param target_vocab_to_int: Dictionary to go from the target words to an id\n",
    "    :return: Tuple of (Training Logits, Inference Logits)\n",
    "    \"\"\"\n",
    "    # TODO: Implement Function\n",
    "    embed_input = tf.contrib.layers.embed_sequence(input_data, source_vocab_size, enc_embedding_size)\n",
    "    encoder_state = encoding_layer(embed_input, rnn_size, num_layers, keep_prob)\n",
    "\n",
    "    dec_input = process_decoding_input(target_data, target_vocab_to_int, batch_size)\n",
    "\n",
    "    dec_embeddings = tf.Variable(tf.random_uniform([target_vocab_size, dec_embedding_size]))\n",
    "    dec_embed_input = tf.nn.embedding_lookup(dec_embeddings, dec_input)\n",
    "\n",
    "    train_logits, infer_logits = decoding_layer(dec_embed_input, dec_embeddings, encoder_state, target_vocab_size,\n",
    "               sequence_length, rnn_size, num_layers, target_vocab_to_int, keep_prob)\n",
    "\n",
    "    return (train_logits, infer_logits)\n",
    "\n",
    "\n",
    "\"\"\"\n",
    "DON'T MODIFY ANYTHING IN THIS CELL THAT IS BELOW THIS LINE\n",
    "\"\"\"\n",
    "tests.test_seq2seq_model(seq2seq_model)"
   ]
  },
  {
   "cell_type": "markdown",
   "metadata": {
    "deletable": true,
    "editable": true
   },
   "source": [
    "## Neural Network Training\n",
    "### Hyperparameters\n",
    "Tune the following parameters:\n",
    "\n",
    "- Set `epochs` to the number of epochs.\n",
    "- Set `batch_size` to the batch size.\n",
    "- Set `rnn_size` to the size of the RNNs.\n",
    "- Set `num_layers` to the number of layers.\n",
    "- Set `encoding_embedding_size` to the size of the embedding for the encoder.\n",
    "- Set `decoding_embedding_size` to the size of the embedding for the decoder.\n",
    "- Set `learning_rate` to the learning rate.\n",
    "- Set `keep_probability` to the Dropout keep probability"
   ]
  },
  {
   "cell_type": "code",
   "execution_count": 17,
   "metadata": {
    "collapsed": true,
    "deletable": true,
    "editable": true
   },
   "outputs": [],
   "source": [
    "# Number of Epochs\n",
    "epochs = 3\n",
    "# Batch Size\n",
    "batch_size = 256\n",
    "# RNN Size\n",
    "rnn_size = 512\n",
    "# Number of Layers\n",
    "num_layers = 2\n",
    "# Embedding Size\n",
    "encoding_embedding_size = 256\n",
    "decoding_embedding_size = 256\n",
    "# Learning Rate\n",
    "learning_rate = .005\n",
    "# Dropout Keep Probability\n",
    "keep_probability = .9"
   ]
  },
  {
   "cell_type": "markdown",
   "metadata": {
    "deletable": true,
    "editable": true
   },
   "source": [
    "### Build the Graph\n",
    "Build the graph using the neural network you implemented."
   ]
  },
  {
   "cell_type": "code",
   "execution_count": 18,
   "metadata": {
    "collapsed": true,
    "deletable": true,
    "editable": true
   },
   "outputs": [],
   "source": [
    "\"\"\"\n",
    "DON'T MODIFY ANYTHING IN THIS CELL\n",
    "\"\"\"\n",
    "save_path = 'checkpoints/dev'\n",
    "(source_int_text, target_int_text), (source_vocab_to_int, target_vocab_to_int), _ = helper.load_preprocess()\n",
    "max_source_sentence_length = max([len(sentence) for sentence in source_int_text])\n",
    "\n",
    "train_graph = tf.Graph()\n",
    "with train_graph.as_default():\n",
    "    input_data, targets, lr, keep_prob = model_inputs()\n",
    "    sequence_length = tf.placeholder_with_default(max_source_sentence_length, None, name='sequence_length')\n",
    "    input_shape = tf.shape(input_data)\n",
    "    \n",
    "    train_logits, inference_logits = seq2seq_model(\n",
    "        tf.reverse(input_data, [-1]), targets, keep_prob, batch_size, sequence_length, len(source_vocab_to_int), len(target_vocab_to_int),\n",
    "        encoding_embedding_size, decoding_embedding_size, rnn_size, num_layers, target_vocab_to_int)\n",
    "\n",
    "    tf.identity(inference_logits, 'logits')\n",
    "    with tf.name_scope(\"optimization\"):\n",
    "        # Loss function\n",
    "        cost = tf.contrib.seq2seq.sequence_loss(\n",
    "            train_logits,\n",
    "            targets,\n",
    "            tf.ones([input_shape[0], sequence_length]))\n",
    "\n",
    "        # Optimizer\n",
    "        optimizer = tf.train.AdamOptimizer(lr)\n",
    "\n",
    "        # Gradient Clipping\n",
    "        gradients = optimizer.compute_gradients(cost)\n",
    "        capped_gradients = [(tf.clip_by_value(grad, -1., 1.), var) for grad, var in gradients if grad is not None]\n",
    "        train_op = optimizer.apply_gradients(capped_gradients)"
   ]
  },
  {
   "cell_type": "markdown",
   "metadata": {
    "deletable": true,
    "editable": true
   },
   "source": [
    "### Train\n",
    "Train the neural network on the preprocessed data. If you have a hard time getting a good loss, check the forms to see if anyone is having the same problem."
   ]
  },
  {
   "cell_type": "code",
   "execution_count": 19,
   "metadata": {
    "collapsed": false,
    "deletable": true,
    "editable": true,
    "scrolled": true
   },
   "outputs": [
    {
     "name": "stdout",
     "output_type": "stream",
     "text": [
      "Epoch   0 Batch    0/538 - Train Accuracy:  0.139, Validation Accuracy:  0.215, Loss:  5.855\n",
      "Epoch   0 Batch    1/538 - Train Accuracy:  0.135, Validation Accuracy:  0.209, Loss:  5.798\n",
      "Epoch   0 Batch    2/538 - Train Accuracy:  0.134, Validation Accuracy:  0.209, Loss:  5.855\n",
      "Epoch   0 Batch    3/538 - Train Accuracy:  0.154, Validation Accuracy:  0.232, Loss:  4.648\n",
      "Epoch   0 Batch    4/538 - Train Accuracy:  0.165, Validation Accuracy:  0.232, Loss:  4.383\n",
      "Epoch   0 Batch    5/538 - Train Accuracy:  0.189, Validation Accuracy:  0.220, Loss:  4.180\n",
      "Epoch   0 Batch    6/538 - Train Accuracy:  0.169, Validation Accuracy:  0.204, Loss:  4.008\n",
      "Epoch   0 Batch    7/538 - Train Accuracy:  0.101, Validation Accuracy:  0.182, Loss:  3.895\n",
      "Epoch   0 Batch    8/538 - Train Accuracy:  0.104, Validation Accuracy:  0.184, Loss:  3.742\n",
      "Epoch   0 Batch    9/538 - Train Accuracy:  0.102, Validation Accuracy:  0.183, Loss:  3.545\n",
      "Epoch   0 Batch   10/538 - Train Accuracy:  0.099, Validation Accuracy:  0.184, Loss:  3.471\n",
      "Epoch   0 Batch   11/538 - Train Accuracy:  0.102, Validation Accuracy:  0.181, Loss:  3.372\n",
      "Epoch   0 Batch   12/538 - Train Accuracy:  0.099, Validation Accuracy:  0.180, Loss:  3.368\n",
      "Epoch   0 Batch   13/538 - Train Accuracy:  0.142, Validation Accuracy:  0.180, Loss:  3.114\n",
      "Epoch   0 Batch   14/538 - Train Accuracy:  0.101, Validation Accuracy:  0.180, Loss:  3.232\n",
      "Epoch   0 Batch   15/538 - Train Accuracy:  0.143, Validation Accuracy:  0.180, Loss:  3.088\n",
      "Epoch   0 Batch   16/538 - Train Accuracy:  0.143, Validation Accuracy:  0.180, Loss:  3.040\n",
      "Epoch   0 Batch   17/538 - Train Accuracy:  0.101, Validation Accuracy:  0.180, Loss:  3.074\n",
      "Epoch   0 Batch   18/538 - Train Accuracy:  0.103, Validation Accuracy:  0.182, Loss:  3.098\n",
      "Epoch   0 Batch   19/538 - Train Accuracy:  0.101, Validation Accuracy:  0.182, Loss:  3.051\n",
      "Epoch   0 Batch   20/538 - Train Accuracy:  0.143, Validation Accuracy:  0.182, Loss:  2.889\n",
      "Epoch   0 Batch   21/538 - Train Accuracy:  0.055, Validation Accuracy:  0.182, Loss:  3.059\n",
      "Epoch   0 Batch   22/538 - Train Accuracy:  0.100, Validation Accuracy:  0.180, Loss:  2.894\n",
      "Epoch   0 Batch   23/538 - Train Accuracy:  0.101, Validation Accuracy:  0.180, Loss:  2.880\n",
      "Epoch   0 Batch   24/538 - Train Accuracy:  0.142, Validation Accuracy:  0.181, Loss:  2.802\n",
      "Epoch   0 Batch   25/538 - Train Accuracy:  0.101, Validation Accuracy:  0.181, Loss:  2.796\n",
      "Epoch   0 Batch   26/538 - Train Accuracy:  0.105, Validation Accuracy:  0.182, Loss:  2.791\n",
      "Epoch   0 Batch   27/538 - Train Accuracy:  0.104, Validation Accuracy:  0.182, Loss:  2.709\n",
      "Epoch   0 Batch   28/538 - Train Accuracy:  0.183, Validation Accuracy:  0.182, Loss:  2.471\n",
      "Epoch   0 Batch   29/538 - Train Accuracy:  0.146, Validation Accuracy:  0.184, Loss:  2.595\n",
      "Epoch   0 Batch   30/538 - Train Accuracy:  0.107, Validation Accuracy:  0.184, Loss:  2.660\n",
      "Epoch   0 Batch   31/538 - Train Accuracy:  0.147, Validation Accuracy:  0.184, Loss:  2.490\n",
      "Epoch   0 Batch   32/538 - Train Accuracy:  0.143, Validation Accuracy:  0.184, Loss:  2.539\n",
      "Epoch   0 Batch   33/538 - Train Accuracy:  0.144, Validation Accuracy:  0.182, Loss:  2.479\n",
      "Epoch   0 Batch   34/538 - Train Accuracy:  0.104, Validation Accuracy:  0.182, Loss:  2.478\n",
      "Epoch   0 Batch   35/538 - Train Accuracy:  0.102, Validation Accuracy:  0.182, Loss:  2.483\n",
      "Epoch   0 Batch   36/538 - Train Accuracy:  0.145, Validation Accuracy:  0.183, Loss:  2.359\n",
      "Epoch   0 Batch   37/538 - Train Accuracy:  0.104, Validation Accuracy:  0.184, Loss:  2.401\n",
      "Epoch   0 Batch   38/538 - Train Accuracy:  0.102, Validation Accuracy:  0.185, Loss:  2.412\n",
      "Epoch   0 Batch   39/538 - Train Accuracy:  0.104, Validation Accuracy:  0.184, Loss:  2.420\n",
      "Epoch   0 Batch   40/538 - Train Accuracy:  0.192, Validation Accuracy:  0.192, Loss:  2.156\n",
      "Epoch   0 Batch   41/538 - Train Accuracy:  0.103, Validation Accuracy:  0.182, Loss:  2.368\n",
      "Epoch   0 Batch   42/538 - Train Accuracy:  0.105, Validation Accuracy:  0.182, Loss:  2.284\n",
      "Epoch   0 Batch   43/538 - Train Accuracy:  0.105, Validation Accuracy:  0.184, Loss:  2.315\n",
      "Epoch   0 Batch   44/538 - Train Accuracy:  0.102, Validation Accuracy:  0.184, Loss:  2.361\n",
      "Epoch   0 Batch   45/538 - Train Accuracy:  0.154, Validation Accuracy:  0.193, Loss:  2.155\n",
      "Epoch   0 Batch   46/538 - Train Accuracy:  0.113, Validation Accuracy:  0.196, Loss:  2.263\n",
      "Epoch   0 Batch   47/538 - Train Accuracy:  0.154, Validation Accuracy:  0.198, Loss:  2.149\n",
      "Epoch   0 Batch   48/538 - Train Accuracy:  0.162, Validation Accuracy:  0.206, Loss:  2.088\n",
      "Epoch   0 Batch   49/538 - Train Accuracy:  0.119, Validation Accuracy:  0.206, Loss:  2.260\n",
      "Epoch   0 Batch   50/538 - Train Accuracy:  0.120, Validation Accuracy:  0.205, Loss:  2.132\n",
      "Epoch   0 Batch   51/538 - Train Accuracy:  0.076, Validation Accuracy:  0.206, Loss:  2.348\n",
      "Epoch   0 Batch   52/538 - Train Accuracy:  0.126, Validation Accuracy:  0.206, Loss:  2.137\n",
      "Epoch   0 Batch   53/538 - Train Accuracy:  0.200, Validation Accuracy:  0.204, Loss:  1.965\n",
      "Epoch   0 Batch   54/538 - Train Accuracy:  0.123, Validation Accuracy:  0.205, Loss:  2.088\n",
      "Epoch   0 Batch   55/538 - Train Accuracy:  0.122, Validation Accuracy:  0.206, Loss:  2.151\n",
      "Epoch   0 Batch   56/538 - Train Accuracy:  0.158, Validation Accuracy:  0.207, Loss:  2.040\n",
      "Epoch   0 Batch   57/538 - Train Accuracy:  0.119, Validation Accuracy:  0.210, Loss:  2.158\n",
      "Epoch   0 Batch   58/538 - Train Accuracy:  0.125, Validation Accuracy:  0.212, Loss:  2.137\n",
      "Epoch   0 Batch   59/538 - Train Accuracy:  0.128, Validation Accuracy:  0.213, Loss:  2.081\n",
      "Epoch   0 Batch   60/538 - Train Accuracy:  0.134, Validation Accuracy:  0.213, Loss:  2.032\n",
      "Epoch   0 Batch   61/538 - Train Accuracy:  0.132, Validation Accuracy:  0.212, Loss:  2.012\n",
      "Epoch   0 Batch   62/538 - Train Accuracy:  0.174, Validation Accuracy:  0.211, Loss:  1.975\n",
      "Epoch   0 Batch   63/538 - Train Accuracy:  0.176, Validation Accuracy:  0.211, Loss:  1.899\n",
      "Epoch   0 Batch   64/538 - Train Accuracy:  0.169, Validation Accuracy:  0.211, Loss:  1.927\n",
      "Epoch   0 Batch   65/538 - Train Accuracy:  0.130, Validation Accuracy:  0.210, Loss:  2.095\n",
      "Epoch   0 Batch   66/538 - Train Accuracy:  0.174, Validation Accuracy:  0.211, Loss:  1.879\n",
      "Epoch   0 Batch   67/538 - Train Accuracy:  0.135, Validation Accuracy:  0.213, Loss:  1.926\n",
      "Epoch   0 Batch   68/538 - Train Accuracy:  0.170, Validation Accuracy:  0.214, Loss:  1.852\n",
      "Epoch   0 Batch   69/538 - Train Accuracy:  0.133, Validation Accuracy:  0.214, Loss:  1.922\n",
      "Epoch   0 Batch   70/538 - Train Accuracy:  0.172, Validation Accuracy:  0.214, Loss:  1.836\n",
      "Epoch   0 Batch   71/538 - Train Accuracy:  0.132, Validation Accuracy:  0.214, Loss:  1.904\n",
      "Epoch   0 Batch   72/538 - Train Accuracy:  0.174, Validation Accuracy:  0.213, Loss:  1.807\n",
      "Epoch   0 Batch   73/538 - Train Accuracy:  0.138, Validation Accuracy:  0.214, Loss:  1.883\n",
      "Epoch   0 Batch   74/538 - Train Accuracy:  0.169, Validation Accuracy:  0.213, Loss:  1.823\n",
      "Epoch   0 Batch   75/538 - Train Accuracy:  0.173, Validation Accuracy:  0.212, Loss:  1.778\n",
      "Epoch   0 Batch   76/538 - Train Accuracy:  0.135, Validation Accuracy:  0.212, Loss:  1.868\n",
      "Epoch   0 Batch   77/538 - Train Accuracy:  0.135, Validation Accuracy:  0.215, Loss:  1.832\n",
      "Epoch   0 Batch   78/538 - Train Accuracy:  0.173, Validation Accuracy:  0.213, Loss:  1.746\n",
      "Epoch   0 Batch   79/538 - Train Accuracy:  0.170, Validation Accuracy:  0.213, Loss:  1.704\n",
      "Epoch   0 Batch   80/538 - Train Accuracy:  0.125, Validation Accuracy:  0.214, Loss:  1.807\n",
      "Epoch   0 Batch   81/538 - Train Accuracy:  0.132, Validation Accuracy:  0.214, Loss:  1.751\n",
      "Epoch   0 Batch   82/538 - Train Accuracy:  0.136, Validation Accuracy:  0.215, Loss:  1.717\n",
      "Epoch   0 Batch   83/538 - Train Accuracy:  0.133, Validation Accuracy:  0.213, Loss:  1.732\n",
      "Epoch   0 Batch   84/538 - Train Accuracy:  0.174, Validation Accuracy:  0.214, Loss:  1.667\n",
      "Epoch   0 Batch   85/538 - Train Accuracy:  0.209, Validation Accuracy:  0.214, Loss:  1.571\n",
      "Epoch   0 Batch   86/538 - Train Accuracy:  0.131, Validation Accuracy:  0.214, Loss:  1.671\n",
      "Epoch   0 Batch   87/538 - Train Accuracy:  0.134, Validation Accuracy:  0.213, Loss:  1.649\n",
      "Epoch   0 Batch   88/538 - Train Accuracy:  0.134, Validation Accuracy:  0.212, Loss:  1.677\n",
      "Epoch   0 Batch   89/538 - Train Accuracy:  0.134, Validation Accuracy:  0.213, Loss:  1.718\n",
      "Epoch   0 Batch   90/538 - Train Accuracy:  0.175, Validation Accuracy:  0.213, Loss:  1.573\n",
      "Epoch   0 Batch   91/538 - Train Accuracy:  0.130, Validation Accuracy:  0.213, Loss:  1.736\n",
      "Epoch   0 Batch   92/538 - Train Accuracy:  0.132, Validation Accuracy:  0.213, Loss:  1.711\n",
      "Epoch   0 Batch   93/538 - Train Accuracy:  0.131, Validation Accuracy:  0.214, Loss:  1.691\n",
      "Epoch   0 Batch   94/538 - Train Accuracy:  0.133, Validation Accuracy:  0.220, Loss:  1.626\n",
      "Epoch   0 Batch   95/538 - Train Accuracy:  0.205, Validation Accuracy:  0.214, Loss:  1.483\n",
      "Epoch   0 Batch   96/538 - Train Accuracy:  0.183, Validation Accuracy:  0.218, Loss:  1.466\n",
      "Epoch   0 Batch   97/538 - Train Accuracy:  0.136, Validation Accuracy:  0.214, Loss:  1.575\n",
      "Epoch   0 Batch   98/538 - Train Accuracy:  0.177, Validation Accuracy:  0.212, Loss:  1.414\n",
      "Epoch   0 Batch   99/538 - Train Accuracy:  0.129, Validation Accuracy:  0.211, Loss:  1.581\n",
      "Epoch   0 Batch  100/538 - Train Accuracy:  0.125, Validation Accuracy:  0.209, Loss:  1.465\n",
      "Epoch   0 Batch  101/538 - Train Accuracy:  0.131, Validation Accuracy:  0.209, Loss:  1.487\n",
      "Epoch   0 Batch  102/538 - Train Accuracy:  0.131, Validation Accuracy:  0.209, Loss:  1.460\n",
      "Epoch   0 Batch  103/538 - Train Accuracy:  0.172, Validation Accuracy:  0.209, Loss:  1.423\n",
      "Epoch   0 Batch  104/538 - Train Accuracy:  0.175, Validation Accuracy:  0.211, Loss:  1.375\n",
      "Epoch   0 Batch  105/538 - Train Accuracy:  0.169, Validation Accuracy:  0.211, Loss:  1.334\n",
      "Epoch   0 Batch  106/538 - Train Accuracy:  0.128, Validation Accuracy:  0.210, Loss:  1.363\n",
      "Epoch   0 Batch  107/538 - Train Accuracy:  0.131, Validation Accuracy:  0.210, Loss:  1.399\n",
      "Epoch   0 Batch  108/538 - Train Accuracy:  0.132, Validation Accuracy:  0.210, Loss:  1.324\n",
      "Epoch   0 Batch  109/538 - Train Accuracy:  0.137, Validation Accuracy:  0.211, Loss:  1.286\n",
      "Epoch   0 Batch  110/538 - Train Accuracy:  0.136, Validation Accuracy:  0.212, Loss:  1.310\n",
      "Epoch   0 Batch  111/538 - Train Accuracy:  0.172, Validation Accuracy:  0.214, Loss:  1.206\n",
      "Epoch   0 Batch  112/538 - Train Accuracy:  0.133, Validation Accuracy:  0.214, Loss:  1.273\n",
      "Epoch   0 Batch  113/538 - Train Accuracy:  0.132, Validation Accuracy:  0.214, Loss:  1.257\n",
      "Epoch   0 Batch  114/538 - Train Accuracy:  0.178, Validation Accuracy:  0.213, Loss:  1.156\n",
      "Epoch   0 Batch  115/538 - Train Accuracy:  0.136, Validation Accuracy:  0.213, Loss:  1.198\n",
      "Epoch   0 Batch  116/538 - Train Accuracy:  0.175, Validation Accuracy:  0.213, Loss:  1.193\n",
      "Epoch   0 Batch  117/538 - Train Accuracy:  0.174, Validation Accuracy:  0.212, Loss:  1.101\n",
      "Epoch   0 Batch  118/538 - Train Accuracy:  0.177, Validation Accuracy:  0.212, Loss:  1.119\n",
      "Epoch   0 Batch  119/538 - Train Accuracy:  0.177, Validation Accuracy:  0.213, Loss:  1.071\n",
      "Epoch   0 Batch  120/538 - Train Accuracy:  0.140, Validation Accuracy:  0.213, Loss:  1.122\n",
      "Epoch   0 Batch  121/538 - Train Accuracy:  0.209, Validation Accuracy:  0.213, Loss:  1.061\n",
      "Epoch   0 Batch  122/538 - Train Accuracy:  0.177, Validation Accuracy:  0.213, Loss:  1.061\n",
      "Epoch   0 Batch  123/538 - Train Accuracy:  0.173, Validation Accuracy:  0.213, Loss:  1.022\n",
      "Epoch   0 Batch  124/538 - Train Accuracy:  0.213, Validation Accuracy:  0.213, Loss:  0.992\n",
      "Epoch   0 Batch  125/538 - Train Accuracy:  0.179, Validation Accuracy:  0.213, Loss:  1.024\n",
      "Epoch   0 Batch  126/538 - Train Accuracy:  0.211, Validation Accuracy:  0.214, Loss:  0.997\n",
      "Epoch   0 Batch  127/538 - Train Accuracy:  0.139, Validation Accuracy:  0.213, Loss:  1.064\n",
      "Epoch   0 Batch  128/538 - Train Accuracy:  0.176, Validation Accuracy:  0.215, Loss:  0.993\n",
      "Epoch   0 Batch  129/538 - Train Accuracy:  0.176, Validation Accuracy:  0.215, Loss:  0.970\n",
      "Epoch   0 Batch  130/538 - Train Accuracy:  0.173, Validation Accuracy:  0.214, Loss:  0.953\n",
      "Epoch   0 Batch  131/538 - Train Accuracy:  0.137, Validation Accuracy:  0.214, Loss:  0.990\n",
      "Epoch   0 Batch  132/538 - Train Accuracy:  0.174, Validation Accuracy:  0.214, Loss:  0.956\n",
      "Epoch   0 Batch  133/538 - Train Accuracy:  0.210, Validation Accuracy:  0.214, Loss:  0.894\n",
      "Epoch   0 Batch  134/538 - Train Accuracy:  0.134, Validation Accuracy:  0.214, Loss:  0.999\n",
      "Epoch   0 Batch  135/538 - Train Accuracy:  0.176, Validation Accuracy:  0.214, Loss:  0.931\n",
      "Epoch   0 Batch  136/538 - Train Accuracy:  0.174, Validation Accuracy:  0.214, Loss:  0.917\n",
      "Epoch   0 Batch  137/538 - Train Accuracy:  0.171, Validation Accuracy:  0.214, Loss:  0.914\n",
      "Epoch   0 Batch  138/538 - Train Accuracy:  0.172, Validation Accuracy:  0.213, Loss:  0.895\n",
      "Epoch   0 Batch  139/538 - Train Accuracy:  0.133, Validation Accuracy:  0.213, Loss:  0.983\n",
      "Epoch   0 Batch  140/538 - Train Accuracy:  0.132, Validation Accuracy:  0.213, Loss:  0.945\n",
      "Epoch   0 Batch  141/538 - Train Accuracy:  0.138, Validation Accuracy:  0.212, Loss:  0.922\n",
      "Epoch   0 Batch  142/538 - Train Accuracy:  0.175, Validation Accuracy:  0.212, Loss:  0.837\n",
      "Epoch   0 Batch  143/538 - Train Accuracy:  0.136, Validation Accuracy:  0.214, Loss:  0.893\n",
      "Epoch   0 Batch  144/538 - Train Accuracy:  0.136, Validation Accuracy:  0.214, Loss:  0.888\n",
      "Epoch   0 Batch  145/538 - Train Accuracy:  0.169, Validation Accuracy:  0.213, Loss:  0.853\n",
      "Epoch   0 Batch  146/538 - Train Accuracy:  0.211, Validation Accuracy:  0.214, Loss:  0.811\n",
      "Epoch   0 Batch  147/538 - Train Accuracy:  0.184, Validation Accuracy:  0.214, Loss:  0.823\n",
      "Epoch   0 Batch  148/538 - Train Accuracy:  0.139, Validation Accuracy:  0.215, Loss:  0.905\n",
      "Epoch   0 Batch  149/538 - Train Accuracy:  0.145, Validation Accuracy:  0.214, Loss:  0.813\n",
      "Epoch   0 Batch  150/538 - Train Accuracy:  0.134, Validation Accuracy:  0.214, Loss:  0.835\n",
      "Epoch   0 Batch  151/538 - Train Accuracy:  0.171, Validation Accuracy:  0.215, Loss:  0.797\n",
      "Epoch   0 Batch  152/538 - Train Accuracy:  0.174, Validation Accuracy:  0.215, Loss:  0.794\n",
      "Epoch   0 Batch  153/538 - Train Accuracy:  0.171, Validation Accuracy:  0.215, Loss:  0.825\n",
      "Epoch   0 Batch  154/538 - Train Accuracy:  0.178, Validation Accuracy:  0.216, Loss:  0.803\n",
      "Epoch   0 Batch  155/538 - Train Accuracy:  0.177, Validation Accuracy:  0.217, Loss:  0.792\n",
      "Epoch   0 Batch  156/538 - Train Accuracy:  0.138, Validation Accuracy:  0.217, Loss:  0.802\n",
      "Epoch   0 Batch  157/538 - Train Accuracy:  0.173, Validation Accuracy:  0.217, Loss:  0.760\n",
      "Epoch   0 Batch  158/538 - Train Accuracy:  0.133, Validation Accuracy:  0.216, Loss:  0.803\n",
      "Epoch   0 Batch  159/538 - Train Accuracy:  0.138, Validation Accuracy:  0.216, Loss:  0.784\n",
      "Epoch   0 Batch  160/538 - Train Accuracy:  0.170, Validation Accuracy:  0.218, Loss:  0.748\n",
      "Epoch   0 Batch  161/538 - Train Accuracy:  0.135, Validation Accuracy:  0.216, Loss:  0.770\n",
      "Epoch   0 Batch  162/538 - Train Accuracy:  0.177, Validation Accuracy:  0.214, Loss:  0.740\n",
      "Epoch   0 Batch  163/538 - Train Accuracy:  0.171, Validation Accuracy:  0.211, Loss:  0.764\n",
      "Epoch   0 Batch  164/538 - Train Accuracy:  0.134, Validation Accuracy:  0.209, Loss:  0.777\n",
      "Epoch   0 Batch  165/538 - Train Accuracy:  0.175, Validation Accuracy:  0.211, Loss:  0.702\n",
      "Epoch   0 Batch  166/538 - Train Accuracy:  0.137, Validation Accuracy:  0.213, Loss:  0.742\n",
      "Epoch   0 Batch  167/538 - Train Accuracy:  0.176, Validation Accuracy:  0.214, Loss:  0.711\n",
      "Epoch   0 Batch  168/538 - Train Accuracy:  0.132, Validation Accuracy:  0.214, Loss:  0.777\n",
      "Epoch   0 Batch  169/538 - Train Accuracy:  0.134, Validation Accuracy:  0.215, Loss:  0.715\n",
      "Epoch   0 Batch  170/538 - Train Accuracy:  0.170, Validation Accuracy:  0.215, Loss:  0.730\n",
      "Epoch   0 Batch  171/538 - Train Accuracy:  0.130, Validation Accuracy:  0.215, Loss:  0.744\n",
      "Epoch   0 Batch  172/538 - Train Accuracy:  0.171, Validation Accuracy:  0.215, Loss:  0.721\n",
      "Epoch   0 Batch  173/538 - Train Accuracy:  0.176, Validation Accuracy:  0.215, Loss:  0.686\n",
      "Epoch   0 Batch  174/538 - Train Accuracy:  0.137, Validation Accuracy:  0.215, Loss:  0.726\n",
      "Epoch   0 Batch  175/538 - Train Accuracy:  0.132, Validation Accuracy:  0.215, Loss:  0.719\n",
      "Epoch   0 Batch  176/538 - Train Accuracy:  0.135, Validation Accuracy:  0.214, Loss:  0.744\n",
      "Epoch   0 Batch  177/538 - Train Accuracy:  0.174, Validation Accuracy:  0.215, Loss:  0.695\n",
      "Epoch   0 Batch  178/538 - Train Accuracy:  0.180, Validation Accuracy:  0.216, Loss:  0.675\n",
      "Epoch   0 Batch  179/538 - Train Accuracy:  0.132, Validation Accuracy:  0.218, Loss:  0.694\n",
      "Epoch   0 Batch  180/538 - Train Accuracy:  0.180, Validation Accuracy:  0.220, Loss:  0.669\n",
      "Epoch   0 Batch  181/538 - Train Accuracy:  0.136, Validation Accuracy:  0.219, Loss:  0.701\n",
      "Epoch   0 Batch  182/538 - Train Accuracy:  0.139, Validation Accuracy:  0.219, Loss:  0.678\n",
      "Epoch   0 Batch  183/538 - Train Accuracy:  0.178, Validation Accuracy:  0.216, Loss:  0.634\n",
      "Epoch   0 Batch  184/538 - Train Accuracy:  0.171, Validation Accuracy:  0.214, Loss:  0.633\n",
      "Epoch   0 Batch  185/538 - Train Accuracy:  0.134, Validation Accuracy:  0.214, Loss:  0.653\n",
      "Epoch   0 Batch  186/538 - Train Accuracy:  0.172, Validation Accuracy:  0.215, Loss:  0.636\n",
      "Epoch   0 Batch  187/538 - Train Accuracy:  0.209, Validation Accuracy:  0.216, Loss:  0.622\n",
      "Epoch   0 Batch  188/538 - Train Accuracy:  0.137, Validation Accuracy:  0.216, Loss:  0.644\n",
      "Epoch   0 Batch  189/538 - Train Accuracy:  0.137, Validation Accuracy:  0.214, Loss:  0.656\n",
      "Epoch   0 Batch  190/538 - Train Accuracy:  0.171, Validation Accuracy:  0.212, Loss:  0.641\n",
      "Epoch   0 Batch  191/538 - Train Accuracy:  0.172, Validation Accuracy:  0.208, Loss:  0.607\n",
      "Epoch   0 Batch  192/538 - Train Accuracy:  0.170, Validation Accuracy:  0.206, Loss:  0.627\n",
      "Epoch   0 Batch  193/538 - Train Accuracy:  0.165, Validation Accuracy:  0.206, Loss:  0.600\n",
      "Epoch   0 Batch  194/538 - Train Accuracy:  0.130, Validation Accuracy:  0.207, Loss:  0.640\n",
      "Epoch   0 Batch  195/538 - Train Accuracy:  0.174, Validation Accuracy:  0.208, Loss:  0.606\n",
      "Epoch   0 Batch  196/538 - Train Accuracy:  0.173, Validation Accuracy:  0.208, Loss:  0.588\n",
      "Epoch   0 Batch  197/538 - Train Accuracy:  0.172, Validation Accuracy:  0.210, Loss:  0.597\n",
      "Epoch   0 Batch  198/538 - Train Accuracy:  0.176, Validation Accuracy:  0.210, Loss:  0.597\n",
      "Epoch   0 Batch  199/538 - Train Accuracy:  0.134, Validation Accuracy:  0.213, Loss:  0.627\n",
      "Epoch   0 Batch  200/538 - Train Accuracy:  0.133, Validation Accuracy:  0.213, Loss:  0.593\n",
      "Epoch   0 Batch  201/538 - Train Accuracy:  0.178, Validation Accuracy:  0.213, Loss:  0.591\n",
      "Epoch   0 Batch  202/538 - Train Accuracy:  0.093, Validation Accuracy:  0.213, Loss:  0.623\n",
      "Epoch   0 Batch  203/538 - Train Accuracy:  0.133, Validation Accuracy:  0.213, Loss:  0.630\n",
      "Epoch   0 Batch  204/538 - Train Accuracy:  0.132, Validation Accuracy:  0.213, Loss:  0.600\n",
      "Epoch   0 Batch  205/538 - Train Accuracy:  0.178, Validation Accuracy:  0.213, Loss:  0.555\n",
      "Epoch   0 Batch  206/538 - Train Accuracy:  0.131, Validation Accuracy:  0.214, Loss:  0.599\n",
      "Epoch   0 Batch  207/538 - Train Accuracy:  0.177, Validation Accuracy:  0.214, Loss:  0.552\n",
      "Epoch   0 Batch  208/538 - Train Accuracy:  0.132, Validation Accuracy:  0.214, Loss:  0.596\n",
      "Epoch   0 Batch  209/538 - Train Accuracy:  0.136, Validation Accuracy:  0.214, Loss:  0.568\n",
      "Epoch   0 Batch  210/538 - Train Accuracy:  0.181, Validation Accuracy:  0.214, Loss:  0.557\n",
      "Epoch   0 Batch  211/538 - Train Accuracy:  0.131, Validation Accuracy:  0.214, Loss:  0.589\n",
      "Epoch   0 Batch  212/538 - Train Accuracy:  0.175, Validation Accuracy:  0.214, Loss:  0.552\n",
      "Epoch   0 Batch  213/538 - Train Accuracy:  0.172, Validation Accuracy:  0.214, Loss:  0.541\n",
      "Epoch   0 Batch  214/538 - Train Accuracy:  0.135, Validation Accuracy:  0.214, Loss:  0.561\n",
      "Epoch   0 Batch  215/538 - Train Accuracy:  0.143, Validation Accuracy:  0.214, Loss:  0.563\n",
      "Epoch   0 Batch  216/538 - Train Accuracy:  0.130, Validation Accuracy:  0.214, Loss:  0.557\n",
      "Epoch   0 Batch  217/538 - Train Accuracy:  0.174, Validation Accuracy:  0.216, Loss:  0.524\n",
      "Epoch   0 Batch  218/538 - Train Accuracy:  0.138, Validation Accuracy:  0.216, Loss:  0.554\n",
      "Epoch   0 Batch  219/538 - Train Accuracy:  0.132, Validation Accuracy:  0.216, Loss:  0.564\n",
      "Epoch   0 Batch  220/538 - Train Accuracy:  0.182, Validation Accuracy:  0.217, Loss:  0.523\n",
      "Epoch   0 Batch  221/538 - Train Accuracy:  0.181, Validation Accuracy:  0.217, Loss:  0.515\n",
      "Epoch   0 Batch  222/538 - Train Accuracy:  0.185, Validation Accuracy:  0.218, Loss:  0.497\n",
      "Epoch   0 Batch  223/538 - Train Accuracy:  0.139, Validation Accuracy:  0.219, Loss:  0.547\n",
      "Epoch   0 Batch  224/538 - Train Accuracy:  0.142, Validation Accuracy:  0.219, Loss:  0.539\n",
      "Epoch   0 Batch  225/538 - Train Accuracy:  0.184, Validation Accuracy:  0.220, Loss:  0.510\n",
      "Epoch   0 Batch  226/538 - Train Accuracy:  0.190, Validation Accuracy:  0.221, Loss:  0.505\n",
      "Epoch   0 Batch  227/538 - Train Accuracy:  0.224, Validation Accuracy:  0.225, Loss:  0.484\n",
      "Epoch   0 Batch  228/538 - Train Accuracy:  0.192, Validation Accuracy:  0.224, Loss:  0.490\n",
      "Epoch   0 Batch  229/538 - Train Accuracy:  0.182, Validation Accuracy:  0.223, Loss:  0.505\n",
      "Epoch   0 Batch  230/538 - Train Accuracy:  0.143, Validation Accuracy:  0.222, Loss:  0.508\n",
      "Epoch   0 Batch  231/538 - Train Accuracy:  0.144, Validation Accuracy:  0.222, Loss:  0.517\n",
      "Epoch   0 Batch  232/538 - Train Accuracy:  0.140, Validation Accuracy:  0.221, Loss:  0.510\n",
      "Epoch   0 Batch  233/538 - Train Accuracy:  0.177, Validation Accuracy:  0.221, Loss:  0.496\n",
      "Epoch   0 Batch  234/538 - Train Accuracy:  0.139, Validation Accuracy:  0.220, Loss:  0.514\n",
      "Epoch   0 Batch  235/538 - Train Accuracy:  0.178, Validation Accuracy:  0.218, Loss:  0.470\n",
      "Epoch   0 Batch  236/538 - Train Accuracy:  0.140, Validation Accuracy:  0.219, Loss:  0.515\n",
      "Epoch   0 Batch  237/538 - Train Accuracy:  0.150, Validation Accuracy:  0.219, Loss:  0.482\n",
      "Epoch   0 Batch  238/538 - Train Accuracy:  0.183, Validation Accuracy:  0.218, Loss:  0.471\n",
      "Epoch   0 Batch  239/538 - Train Accuracy:  0.143, Validation Accuracy:  0.217, Loss:  0.487\n",
      "Epoch   0 Batch  240/538 - Train Accuracy:  0.144, Validation Accuracy:  0.218, Loss:  0.490\n",
      "Epoch   0 Batch  241/538 - Train Accuracy:  0.140, Validation Accuracy:  0.220, Loss:  0.491\n",
      "Epoch   0 Batch  242/538 - Train Accuracy:  0.146, Validation Accuracy:  0.222, Loss:  0.470\n",
      "Epoch   0 Batch  243/538 - Train Accuracy:  0.099, Validation Accuracy:  0.222, Loss:  0.492\n",
      "Epoch   0 Batch  244/538 - Train Accuracy:  0.182, Validation Accuracy:  0.221, Loss:  0.458\n",
      "Epoch   0 Batch  245/538 - Train Accuracy:  0.141, Validation Accuracy:  0.219, Loss:  0.486\n",
      "Epoch   0 Batch  246/538 - Train Accuracy:  0.182, Validation Accuracy:  0.219, Loss:  0.441\n",
      "Epoch   0 Batch  247/538 - Train Accuracy:  0.135, Validation Accuracy:  0.217, Loss:  0.465\n",
      "Epoch   0 Batch  248/538 - Train Accuracy:  0.140, Validation Accuracy:  0.216, Loss:  0.466\n",
      "Epoch   0 Batch  249/538 - Train Accuracy:  0.178, Validation Accuracy:  0.215, Loss:  0.441\n",
      "Epoch   0 Batch  250/538 - Train Accuracy:  0.134, Validation Accuracy:  0.216, Loss:  0.461\n",
      "Epoch   0 Batch  251/538 - Train Accuracy:  0.133, Validation Accuracy:  0.216, Loss:  0.462\n",
      "Epoch   0 Batch  252/538 - Train Accuracy:  0.174, Validation Accuracy:  0.216, Loss:  0.422\n",
      "Epoch   0 Batch  253/538 - Train Accuracy:  0.174, Validation Accuracy:  0.215, Loss:  0.435\n",
      "Epoch   0 Batch  254/538 - Train Accuracy:  0.133, Validation Accuracy:  0.214, Loss:  0.459\n",
      "Epoch   0 Batch  255/538 - Train Accuracy:  0.137, Validation Accuracy:  0.214, Loss:  0.436\n",
      "Epoch   0 Batch  256/538 - Train Accuracy:  0.142, Validation Accuracy:  0.214, Loss:  0.457\n",
      "Epoch   0 Batch  257/538 - Train Accuracy:  0.178, Validation Accuracy:  0.216, Loss:  0.417\n",
      "Epoch   0 Batch  258/538 - Train Accuracy:  0.185, Validation Accuracy:  0.220, Loss:  0.421\n",
      "Epoch   0 Batch  259/538 - Train Accuracy:  0.186, Validation Accuracy:  0.223, Loss:  0.411\n",
      "Epoch   0 Batch  260/538 - Train Accuracy:  0.182, Validation Accuracy:  0.225, Loss:  0.425\n",
      "Epoch   0 Batch  261/538 - Train Accuracy:  0.146, Validation Accuracy:  0.226, Loss:  0.432\n",
      "Epoch   0 Batch  262/538 - Train Accuracy:  0.150, Validation Accuracy:  0.226, Loss:  0.427\n",
      "Epoch   0 Batch  263/538 - Train Accuracy:  0.152, Validation Accuracy:  0.227, Loss:  0.426\n",
      "Epoch   0 Batch  264/538 - Train Accuracy:  0.152, Validation Accuracy:  0.226, Loss:  0.429\n",
      "Epoch   0 Batch  265/538 - Train Accuracy:  0.147, Validation Accuracy:  0.225, Loss:  0.432\n",
      "Epoch   0 Batch  266/538 - Train Accuracy:  0.188, Validation Accuracy:  0.225, Loss:  0.416\n",
      "Epoch   0 Batch  267/538 - Train Accuracy:  0.148, Validation Accuracy:  0.224, Loss:  0.415\n",
      "Epoch   0 Batch  268/538 - Train Accuracy:  0.185, Validation Accuracy:  0.222, Loss:  0.388\n",
      "Epoch   0 Batch  269/538 - Train Accuracy:  0.142, Validation Accuracy:  0.221, Loss:  0.403\n",
      "Epoch   0 Batch  270/538 - Train Accuracy:  0.142, Validation Accuracy:  0.221, Loss:  0.406\n",
      "Epoch   0 Batch  271/538 - Train Accuracy:  0.140, Validation Accuracy:  0.221, Loss:  0.398\n",
      "Epoch   0 Batch  272/538 - Train Accuracy:  0.136, Validation Accuracy:  0.222, Loss:  0.428\n",
      "Epoch   0 Batch  273/538 - Train Accuracy:  0.142, Validation Accuracy:  0.221, Loss:  0.405\n",
      "Epoch   0 Batch  274/538 - Train Accuracy:  0.138, Validation Accuracy:  0.220, Loss:  0.431\n",
      "Epoch   0 Batch  275/538 - Train Accuracy:  0.144, Validation Accuracy:  0.221, Loss:  0.413\n",
      "Epoch   0 Batch  276/538 - Train Accuracy:  0.148, Validation Accuracy:  0.222, Loss:  0.410\n",
      "Epoch   0 Batch  277/538 - Train Accuracy:  0.142, Validation Accuracy:  0.223, Loss:  0.385\n",
      "Epoch   0 Batch  278/538 - Train Accuracy:  0.148, Validation Accuracy:  0.224, Loss:  0.384\n",
      "Epoch   0 Batch  279/538 - Train Accuracy:  0.146, Validation Accuracy:  0.223, Loss:  0.386\n",
      "Epoch   0 Batch  280/538 - Train Accuracy:  0.182, Validation Accuracy:  0.224, Loss:  0.366\n",
      "Epoch   0 Batch  281/538 - Train Accuracy:  0.149, Validation Accuracy:  0.224, Loss:  0.402\n",
      "Epoch   0 Batch  282/538 - Train Accuracy:  0.187, Validation Accuracy:  0.223, Loss:  0.388\n",
      "Epoch   0 Batch  283/538 - Train Accuracy:  0.147, Validation Accuracy:  0.223, Loss:  0.390\n",
      "Epoch   0 Batch  284/538 - Train Accuracy:  0.149, Validation Accuracy:  0.223, Loss:  0.388\n",
      "Epoch   0 Batch  285/538 - Train Accuracy:  0.187, Validation Accuracy:  0.223, Loss:  0.345\n",
      "Epoch   0 Batch  286/538 - Train Accuracy:  0.157, Validation Accuracy:  0.225, Loss:  0.391\n",
      "Epoch   0 Batch  287/538 - Train Accuracy:  0.184, Validation Accuracy:  0.226, Loss:  0.359\n",
      "Epoch   0 Batch  288/538 - Train Accuracy:  0.147, Validation Accuracy:  0.226, Loss:  0.384\n",
      "Epoch   0 Batch  289/538 - Train Accuracy:  0.188, Validation Accuracy:  0.226, Loss:  0.347\n",
      "Epoch   0 Batch  290/538 - Train Accuracy:  0.146, Validation Accuracy:  0.225, Loss:  0.362\n",
      "Epoch   0 Batch  291/538 - Train Accuracy:  0.189, Validation Accuracy:  0.225, Loss:  0.357\n",
      "Epoch   0 Batch  292/538 - Train Accuracy:  0.190, Validation Accuracy:  0.224, Loss:  0.351\n",
      "Epoch   0 Batch  293/538 - Train Accuracy:  0.191, Validation Accuracy:  0.224, Loss:  0.341\n",
      "Epoch   0 Batch  294/538 - Train Accuracy:  0.101, Validation Accuracy:  0.224, Loss:  0.384\n",
      "Epoch   0 Batch  295/538 - Train Accuracy:  0.224, Validation Accuracy:  0.225, Loss:  0.335\n"
     ]
    },
    {
     "ename": "KeyboardInterrupt",
     "evalue": "",
     "output_type": "error",
     "traceback": [
      "\u001b[0;31m---------------------------------------------------------------------------\u001b[0m",
      "\u001b[0;31mKeyboardInterrupt\u001b[0m                         Traceback (most recent call last)",
      "\u001b[0;32m<ipython-input-19-d7dd20c512f1>\u001b[0m in \u001b[0;36m<module>\u001b[0;34m()\u001b[0m\n\u001b[1;32m     49\u001b[0m             batch_valid_logits = sess.run(\n\u001b[1;32m     50\u001b[0m                 \u001b[0minference_logits\u001b[0m\u001b[0;34m,\u001b[0m\u001b[0;34m\u001b[0m\u001b[0m\n\u001b[0;32m---> 51\u001b[0;31m                 {input_data: valid_source, keep_prob: 1.0})\n\u001b[0m\u001b[1;32m     52\u001b[0m \u001b[0;34m\u001b[0m\u001b[0m\n\u001b[1;32m     53\u001b[0m             \u001b[0mtrain_acc\u001b[0m \u001b[0;34m=\u001b[0m \u001b[0mget_accuracy\u001b[0m\u001b[0;34m(\u001b[0m\u001b[0mtarget_batch\u001b[0m\u001b[0;34m,\u001b[0m \u001b[0mbatch_train_logits\u001b[0m\u001b[0;34m)\u001b[0m\u001b[0;34m\u001b[0m\u001b[0m\n",
      "\u001b[0;32m/home/carnd/anaconda3/envs/dl/lib/python3.5/site-packages/tensorflow/python/client/session.py\u001b[0m in \u001b[0;36mrun\u001b[0;34m(self, fetches, feed_dict, options, run_metadata)\u001b[0m\n\u001b[1;32m    765\u001b[0m     \u001b[0;32mtry\u001b[0m\u001b[0;34m:\u001b[0m\u001b[0;34m\u001b[0m\u001b[0m\n\u001b[1;32m    766\u001b[0m       result = self._run(None, fetches, feed_dict, options_ptr,\n\u001b[0;32m--> 767\u001b[0;31m                          run_metadata_ptr)\n\u001b[0m\u001b[1;32m    768\u001b[0m       \u001b[0;32mif\u001b[0m \u001b[0mrun_metadata\u001b[0m\u001b[0;34m:\u001b[0m\u001b[0;34m\u001b[0m\u001b[0m\n\u001b[1;32m    769\u001b[0m         \u001b[0mproto_data\u001b[0m \u001b[0;34m=\u001b[0m \u001b[0mtf_session\u001b[0m\u001b[0;34m.\u001b[0m\u001b[0mTF_GetBuffer\u001b[0m\u001b[0;34m(\u001b[0m\u001b[0mrun_metadata_ptr\u001b[0m\u001b[0;34m)\u001b[0m\u001b[0;34m\u001b[0m\u001b[0m\n",
      "\u001b[0;32m/home/carnd/anaconda3/envs/dl/lib/python3.5/site-packages/tensorflow/python/client/session.py\u001b[0m in \u001b[0;36m_run\u001b[0;34m(self, handle, fetches, feed_dict, options, run_metadata)\u001b[0m\n\u001b[1;32m    963\u001b[0m     \u001b[0;32mif\u001b[0m \u001b[0mfinal_fetches\u001b[0m \u001b[0;32mor\u001b[0m \u001b[0mfinal_targets\u001b[0m\u001b[0;34m:\u001b[0m\u001b[0;34m\u001b[0m\u001b[0m\n\u001b[1;32m    964\u001b[0m       results = self._do_run(handle, final_targets, final_fetches,\n\u001b[0;32m--> 965\u001b[0;31m                              feed_dict_string, options, run_metadata)\n\u001b[0m\u001b[1;32m    966\u001b[0m     \u001b[0;32melse\u001b[0m\u001b[0;34m:\u001b[0m\u001b[0;34m\u001b[0m\u001b[0m\n\u001b[1;32m    967\u001b[0m       \u001b[0mresults\u001b[0m \u001b[0;34m=\u001b[0m \u001b[0;34m[\u001b[0m\u001b[0;34m]\u001b[0m\u001b[0;34m\u001b[0m\u001b[0m\n",
      "\u001b[0;32m/home/carnd/anaconda3/envs/dl/lib/python3.5/site-packages/tensorflow/python/client/session.py\u001b[0m in \u001b[0;36m_do_run\u001b[0;34m(self, handle, target_list, fetch_list, feed_dict, options, run_metadata)\u001b[0m\n\u001b[1;32m   1013\u001b[0m     \u001b[0;32mif\u001b[0m \u001b[0mhandle\u001b[0m \u001b[0;32mis\u001b[0m \u001b[0;32mNone\u001b[0m\u001b[0;34m:\u001b[0m\u001b[0;34m\u001b[0m\u001b[0m\n\u001b[1;32m   1014\u001b[0m       return self._do_call(_run_fn, self._session, feed_dict, fetch_list,\n\u001b[0;32m-> 1015\u001b[0;31m                            target_list, options, run_metadata)\n\u001b[0m\u001b[1;32m   1016\u001b[0m     \u001b[0;32melse\u001b[0m\u001b[0;34m:\u001b[0m\u001b[0;34m\u001b[0m\u001b[0m\n\u001b[1;32m   1017\u001b[0m       return self._do_call(_prun_fn, self._session, handle, feed_dict,\n",
      "\u001b[0;32m/home/carnd/anaconda3/envs/dl/lib/python3.5/site-packages/tensorflow/python/client/session.py\u001b[0m in \u001b[0;36m_do_call\u001b[0;34m(self, fn, *args)\u001b[0m\n\u001b[1;32m   1020\u001b[0m   \u001b[0;32mdef\u001b[0m \u001b[0m_do_call\u001b[0m\u001b[0;34m(\u001b[0m\u001b[0mself\u001b[0m\u001b[0;34m,\u001b[0m \u001b[0mfn\u001b[0m\u001b[0;34m,\u001b[0m \u001b[0;34m*\u001b[0m\u001b[0margs\u001b[0m\u001b[0;34m)\u001b[0m\u001b[0;34m:\u001b[0m\u001b[0;34m\u001b[0m\u001b[0m\n\u001b[1;32m   1021\u001b[0m     \u001b[0;32mtry\u001b[0m\u001b[0;34m:\u001b[0m\u001b[0;34m\u001b[0m\u001b[0m\n\u001b[0;32m-> 1022\u001b[0;31m       \u001b[0;32mreturn\u001b[0m \u001b[0mfn\u001b[0m\u001b[0;34m(\u001b[0m\u001b[0;34m*\u001b[0m\u001b[0margs\u001b[0m\u001b[0;34m)\u001b[0m\u001b[0;34m\u001b[0m\u001b[0m\n\u001b[0m\u001b[1;32m   1023\u001b[0m     \u001b[0;32mexcept\u001b[0m \u001b[0merrors\u001b[0m\u001b[0;34m.\u001b[0m\u001b[0mOpError\u001b[0m \u001b[0;32mas\u001b[0m \u001b[0me\u001b[0m\u001b[0;34m:\u001b[0m\u001b[0;34m\u001b[0m\u001b[0m\n\u001b[1;32m   1024\u001b[0m       \u001b[0mmessage\u001b[0m \u001b[0;34m=\u001b[0m \u001b[0mcompat\u001b[0m\u001b[0;34m.\u001b[0m\u001b[0mas_text\u001b[0m\u001b[0;34m(\u001b[0m\u001b[0me\u001b[0m\u001b[0;34m.\u001b[0m\u001b[0mmessage\u001b[0m\u001b[0;34m)\u001b[0m\u001b[0;34m\u001b[0m\u001b[0m\n",
      "\u001b[0;32m/home/carnd/anaconda3/envs/dl/lib/python3.5/site-packages/tensorflow/python/client/session.py\u001b[0m in \u001b[0;36m_run_fn\u001b[0;34m(session, feed_dict, fetch_list, target_list, options, run_metadata)\u001b[0m\n\u001b[1;32m   1002\u001b[0m         return tf_session.TF_Run(session, options,\n\u001b[1;32m   1003\u001b[0m                                  \u001b[0mfeed_dict\u001b[0m\u001b[0;34m,\u001b[0m \u001b[0mfetch_list\u001b[0m\u001b[0;34m,\u001b[0m \u001b[0mtarget_list\u001b[0m\u001b[0;34m,\u001b[0m\u001b[0;34m\u001b[0m\u001b[0m\n\u001b[0;32m-> 1004\u001b[0;31m                                  status, run_metadata)\n\u001b[0m\u001b[1;32m   1005\u001b[0m \u001b[0;34m\u001b[0m\u001b[0m\n\u001b[1;32m   1006\u001b[0m     \u001b[0;32mdef\u001b[0m \u001b[0m_prun_fn\u001b[0m\u001b[0;34m(\u001b[0m\u001b[0msession\u001b[0m\u001b[0;34m,\u001b[0m \u001b[0mhandle\u001b[0m\u001b[0;34m,\u001b[0m \u001b[0mfeed_dict\u001b[0m\u001b[0;34m,\u001b[0m \u001b[0mfetch_list\u001b[0m\u001b[0;34m)\u001b[0m\u001b[0;34m:\u001b[0m\u001b[0;34m\u001b[0m\u001b[0m\n",
      "\u001b[0;31mKeyboardInterrupt\u001b[0m: "
     ]
    }
   ],
   "source": [
    "\"\"\"\n",
    "DON'T MODIFY ANYTHING IN THIS CELL\n",
    "\"\"\"\n",
    "import time\n",
    "\n",
    "def get_accuracy(target, logits):\n",
    "    \"\"\"\n",
    "    Calculate accuracy\n",
    "    \"\"\"\n",
    "    max_seq = max(target.shape[1], logits.shape[1])\n",
    "    if max_seq - target.shape[1]:\n",
    "        target = np.pad(\n",
    "            target,\n",
    "            [(0,0),(0,max_seq - target.shape[1])],\n",
    "            'constant')\n",
    "    if max_seq - logits.shape[1]:\n",
    "        logits = np.pad(\n",
    "            logits,\n",
    "            [(0,0),(0,max_seq - logits.shape[1]), (0,0)],\n",
    "            'constant')\n",
    "\n",
    "    return np.mean(np.equal(target, np.argmax(logits, 2)))\n",
    "\n",
    "train_source = source_int_text[batch_size:]\n",
    "train_target = target_int_text[batch_size:]\n",
    "\n",
    "valid_source = helper.pad_sentence_batch(source_int_text[:batch_size])\n",
    "valid_target = helper.pad_sentence_batch(target_int_text[:batch_size])\n",
    "\n",
    "with tf.Session(graph=train_graph) as sess:\n",
    "    sess.run(tf.global_variables_initializer())\n",
    "\n",
    "    for epoch_i in range(epochs):\n",
    "        for batch_i, (source_batch, target_batch) in enumerate(\n",
    "                helper.batch_data(train_source, train_target, batch_size)):\n",
    "            start_time = time.time()\n",
    "            \n",
    "            _, loss = sess.run(\n",
    "                [train_op, cost],\n",
    "                {input_data: source_batch,\n",
    "                 targets: target_batch,\n",
    "                 lr: learning_rate,\n",
    "                 sequence_length: target_batch.shape[1],\n",
    "                 keep_prob: keep_probability})\n",
    "            \n",
    "            batch_train_logits = sess.run(\n",
    "                inference_logits,\n",
    "                {input_data: source_batch, keep_prob: 1.0})\n",
    "            batch_valid_logits = sess.run(\n",
    "                inference_logits,\n",
    "                {input_data: valid_source, keep_prob: 1.0})\n",
    "                \n",
    "            train_acc = get_accuracy(target_batch, batch_train_logits)\n",
    "            valid_acc = get_accuracy(np.array(valid_target), batch_valid_logits)\n",
    "            end_time = time.time()\n",
    "            print('Epoch {:>3} Batch {:>4}/{} - Train Accuracy: {:>6.3f}, Validation Accuracy: {:>6.3f}, Loss: {:>6.3f}'\n",
    "                  .format(epoch_i, batch_i, len(source_int_text) // batch_size, train_acc, valid_acc, loss))\n",
    "\n",
    "    # Save Model\n",
    "    saver = tf.train.Saver()\n",
    "    saver.save(sess, save_path)\n",
    "    print('Model Trained and Saved')"
   ]
  },
  {
   "cell_type": "markdown",
   "metadata": {
    "deletable": true,
    "editable": true
   },
   "source": [
    "### Save Parameters\n",
    "Save the `batch_size` and `save_path` parameters for inference."
   ]
  },
  {
   "cell_type": "code",
   "execution_count": null,
   "metadata": {
    "collapsed": true,
    "deletable": true,
    "editable": true
   },
   "outputs": [],
   "source": [
    "\"\"\"\n",
    "DON'T MODIFY ANYTHING IN THIS CELL\n",
    "\"\"\"\n",
    "# Save parameters for checkpoint\n",
    "helper.save_params(save_path)"
   ]
  },
  {
   "cell_type": "markdown",
   "metadata": {
    "deletable": true,
    "editable": true
   },
   "source": [
    "# Checkpoint"
   ]
  },
  {
   "cell_type": "code",
   "execution_count": null,
   "metadata": {
    "collapsed": true,
    "deletable": true,
    "editable": true
   },
   "outputs": [],
   "source": [
    "\"\"\"\n",
    "DON'T MODIFY ANYTHING IN THIS CELL\n",
    "\"\"\"\n",
    "import tensorflow as tf\n",
    "import numpy as np\n",
    "import helper\n",
    "import problem_unittests as tests\n",
    "\n",
    "_, (source_vocab_to_int, target_vocab_to_int), (source_int_to_vocab, target_int_to_vocab) = helper.load_preprocess()\n",
    "load_path = helper.load_params()"
   ]
  },
  {
   "cell_type": "markdown",
   "metadata": {
    "deletable": true,
    "editable": true
   },
   "source": [
    "## Sentence to Sequence\n",
    "To feed a sentence into the model for translation, you first need to preprocess it.  Implement the function `sentence_to_seq()` to preprocess new sentences.\n",
    "\n",
    "- Convert the sentence to lowercase\n",
    "- Convert words into ids using `vocab_to_int`\n",
    " - Convert words not in the vocabulary, to the `<UNK>` word id."
   ]
  },
  {
   "cell_type": "code",
   "execution_count": null,
   "metadata": {
    "collapsed": true,
    "deletable": true,
    "editable": true
   },
   "outputs": [],
   "source": [
    "def sentence_to_seq(sentence, vocab_to_int):\n",
    "    \"\"\"\n",
    "    Convert a sentence to a sequence of ids\n",
    "    :param sentence: String\n",
    "    :param vocab_to_int: Dictionary to go from the words to an id\n",
    "    :return: List of word ids\n",
    "    \"\"\"\n",
    "    # TODO: Implement Function\n",
    "    return None\n",
    "\n",
    "\n",
    "\"\"\"\n",
    "DON'T MODIFY ANYTHING IN THIS CELL THAT IS BELOW THIS LINE\n",
    "\"\"\"\n",
    "tests.test_sentence_to_seq(sentence_to_seq)"
   ]
  },
  {
   "cell_type": "markdown",
   "metadata": {
    "deletable": true,
    "editable": true
   },
   "source": [
    "## Translate\n",
    "This will translate `translate_sentence` from English to French."
   ]
  },
  {
   "cell_type": "code",
   "execution_count": null,
   "metadata": {
    "collapsed": true,
    "deletable": true,
    "editable": true
   },
   "outputs": [],
   "source": [
    "translate_sentence = 'he saw a old yellow truck .'\n",
    "\n",
    "\n",
    "\"\"\"\n",
    "DON'T MODIFY ANYTHING IN THIS CELL\n",
    "\"\"\"\n",
    "translate_sentence = sentence_to_seq(translate_sentence, source_vocab_to_int)\n",
    "\n",
    "loaded_graph = tf.Graph()\n",
    "with tf.Session(graph=loaded_graph) as sess:\n",
    "    # Load saved model\n",
    "    loader = tf.train.import_meta_graph(load_path + '.meta')\n",
    "    loader.restore(sess, load_path)\n",
    "\n",
    "    input_data = loaded_graph.get_tensor_by_name('input:0')\n",
    "    logits = loaded_graph.get_tensor_by_name('logits:0')\n",
    "    keep_prob = loaded_graph.get_tensor_by_name('keep_prob:0')\n",
    "\n",
    "    translate_logits = sess.run(logits, {input_data: [translate_sentence], keep_prob: 1.0})[0]\n",
    "\n",
    "print('Input')\n",
    "print('  Word Ids:      {}'.format([i for i in translate_sentence]))\n",
    "print('  English Words: {}'.format([source_int_to_vocab[i] for i in translate_sentence]))\n",
    "\n",
    "print('\\nPrediction')\n",
    "print('  Word Ids:      {}'.format([i for i in np.argmax(translate_logits, 1)]))\n",
    "print('  French Words: {}'.format([target_int_to_vocab[i] for i in np.argmax(translate_logits, 1)]))"
   ]
  },
  {
   "cell_type": "markdown",
   "metadata": {
    "deletable": true,
    "editable": true
   },
   "source": [
    "## Imperfect Translation\n",
    "You might notice that some sentences translate better than others.  Since the dataset you're using only has a vocabulary of 227 English words of the thousands that you use, you're only going to see good results using these words.  For this project, you don't need a perfect translation. However, if you want to create a better translation model, you'll need better data.\n",
    "\n",
    "You can train on the [WMT10 French-English corpus](http://www.statmt.org/wmt10/training-giga-fren.tar).  This dataset has more vocabulary and richer in topics discussed.  However, this will take you days to train, so make sure you've a GPU and the neural network is performing well on dataset we provided.  Just make sure you play with the WMT10 corpus after you've submitted this project.\n",
    "## Submitting This Project\n",
    "When submitting this project, make sure to run all the cells before saving the notebook. Save the notebook file as \"dlnd_language_translation.ipynb\" and save it as a HTML file under \"File\" -> \"Download as\". Include the \"helper.py\" and \"problem_unittests.py\" files in your submission."
   ]
  }
 ],
 "metadata": {
  "kernelspec": {
   "display_name": "Python 3",
   "language": "python",
   "name": "python3"
  },
  "language_info": {
   "codemirror_mode": {
    "name": "ipython",
    "version": 3
   },
   "file_extension": ".py",
   "mimetype": "text/x-python",
   "name": "python",
   "nbconvert_exporter": "python",
   "pygments_lexer": "ipython3",
   "version": "3.5.2"
  },
  "widgets": {
   "state": {},
   "version": "1.1.2"
  }
 },
 "nbformat": 4,
 "nbformat_minor": 1
}
